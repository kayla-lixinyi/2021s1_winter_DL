{
 "cells": [
  {
   "cell_type": "code",
   "execution_count": null,
   "metadata": {},
   "outputs": [],
   "source": [
    "import math \n",
    "import matplotlib.pyplot as plt \n",
    "import keras \n",
    "import pandas as pd \n",
    "import numpy as np \n",
    "from keras.models import Sequential \n",
    "from keras.layers import Dense \n",
    "from keras.layers import LSTM \n",
    "from keras.layers import Dropout \n",
    "from keras.layers import * \n",
    "from sklearn .preprocessing import MinMaxScaler \n",
    "from sklearn.metrics import mean_squared_error \n",
    "from sklearn.metrics import mean_absolute_error \n",
    "from sklearn.model_selection import train_test_split \n",
    "from keras.callbacks import EarlyStopping\n",
    "df=pd.read_csv(\"HistoricalPrices.csv\")\n",
    "df.head(5)"
   ]
  },
  {
   "cell_type": "code",
   "execution_count": null,
   "metadata": {},
   "outputs": [],
   "source": [
    "training_set = df.iloc[:7818, 1:2].values \n",
    "test_set = df.iloc[7818:, 1:2].values"
   ]
  },
  {
   "cell_type": "code",
   "execution_count": null,
   "metadata": {},
   "outputs": [],
   "source": [
    "for idx, val in enumerate(training_set_scaled):\n",
    "    print(idx , \" \", val)"
   ]
  },
  {
   "cell_type": "code",
   "execution_count": null,
   "metadata": {},
   "outputs": [],
   "source": [
    "# 特征缩放\n",
    "sc = MinMaxScaler(feature_range = (0, 1)) \n",
    "training_set_scaled = sc.fit_transform(training_set)\n",
    "# 创建一个具有 60 个时间步长和 1 个输出的数据结构\n",
    "X_train = [] \n",
    "y_train = [] \n",
    "for i in range(60, 7818): \n",
    "    X_train.append(training_set_scaled[i-60:i, 0]) \n",
    "    y_train.append( training_set_scaled[i, 0]) \n",
    "X_train, y_train = np.array(X_train), np.array(y_train)\n",
    "X_train = np.reshape(X_train, (X_train.shape[0], X_train.shape[1], 1)) "
   ]
  },
  {
   "cell_type": "code",
   "execution_count": null,
   "metadata": {},
   "outputs": [],
   "source": [
    "# for idx, val in enumerate(training_set_scaled):\n",
    "#     print(idx , \" \", val)"
   ]
  },
  {
   "cell_type": "code",
   "execution_count": null,
   "metadata": {},
   "outputs": [],
   "source": [
    "# # Feature Scaling\n",
    "# sc = MinMaxScaler(feature_range = (0, 1))\n",
    "# training_set_scaled = sc.fit_transform(training_set)\n",
    "# # Creating a data structure with 60 time-steps and 1 output\n",
    "# X_train = []\n",
    "# y_train = []\n",
    "# for i in range(60, 7817):\n",
    "#     X_train.append(training_set_scaled[i-60:i, 0])\n",
    "#     y_train.append(training_set_scaled[i, 0])\n",
    "# X_train, y_train = np.array(X_train), np.array(y_train)\n",
    "# X_train = np.reshape(X_train, (X_train.shape[0], X_train.shape[1], 1))\n",
    "# print(X_train.shape)"
   ]
  },
  {
   "cell_type": "code",
   "execution_count": null,
   "metadata": {},
   "outputs": [],
   "source": [
    "model = Sequential()\n",
    "\n",
    "#添加第一个 LSTM 层和一些 Dropout 正则化\n",
    "model.add(LSTM(units = 60, return_sequences = True, input_shape = (X_train.shape[1], 1))) \n",
    "model.add(Dropout(0.2))\n",
    "# 添加第二个 LSTM 层和一些 Dropout 正则化\n",
    "model.add(LSTM(units = 60, return_sequences = True)) \n",
    "model.add(Dropout(0.2))\n",
    "# 添加第三个 LSTM 层和一些 Dropout 正则化\n",
    "model.add(LSTM(units = 60, return_sequences = True)) \n",
    "model.add(Dropout(0.2))\n",
    "# 添加第四个 LSTM 层和一些 Dropout 正则化\n",
    "model.add(LSTM(units = 60)) \n",
    "model.add(Dropout(0.2))\n",
    "# 添加输出层\n",
    "model.add(Dense(units = 1))\n",
    "# 编译RNN \n",
    "model.compile(optimizer = 'adam', loss = 'mean_squared_error')\n",
    "# 将 RNN 拟合到训练集\n",
    "model.fit(X_train, y_train, epochs = 20, batch_size = 32)"
   ]
  },
  {
   "cell_type": "code",
   "execution_count": null,
   "metadata": {},
   "outputs": [],
   "source": []
  }
 ],
 "metadata": {
  "kernelspec": {
   "display_name": "Python 3",
   "language": "python",
   "name": "python3"
  },
  "language_info": {
   "codemirror_mode": {
    "name": "ipython",
    "version": 3
   },
   "file_extension": ".py",
   "mimetype": "text/x-python",
   "name": "python",
   "nbconvert_exporter": "python",
   "pygments_lexer": "ipython3",
   "version": "3.7.4"
  }
 },
 "nbformat": 4,
 "nbformat_minor": 4
}
